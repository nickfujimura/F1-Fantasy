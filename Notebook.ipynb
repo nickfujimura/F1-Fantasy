{
  "nbformat": 4,
  "nbformat_minor": 0,
  "metadata": {
    "colab": {
      "provenance": [],
      "authorship_tag": "ABX9TyPj83lehXZwL3KZj4kLS8ZR"
    },
    "kernelspec": {
      "name": "python3",
      "display_name": "Python 3"
    },
    "language_info": {
      "name": "python"
    }
  },
  "cells": [
    {
      "cell_type": "code",
      "execution_count": null,
      "metadata": {
        "id": "axvZ_zAVrYlG"
      },
      "outputs": [],
      "source": []
    }
  ]
}