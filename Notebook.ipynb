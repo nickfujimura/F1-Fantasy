{
  "nbformat": 4,
  "nbformat_minor": 0,
  "metadata": {
    "colab": {
      "provenance": [],
      "authorship_tag": "ABX9TyMGOn0eT0yTWYTnxMaTBvqN"
    },
    "kernelspec": {
      "name": "python3",
      "display_name": "Python 3"
    },
    "language_info": {
      "name": "python"
    }
  },
  "cells": [
    {
      "cell_type": "markdown",
      "source": [
        "Initialization"
      ],
      "metadata": {
        "id": "xW_3P7ZGsjdc"
      }
    },
    {
      "cell_type": "code",
      "execution_count": 1,
      "metadata": {
        "id": "axvZ_zAVrYlG",
        "outputId": "71834ce3-47b9-4e21-a9b7-35a88d44f15e",
        "colab": {
          "base_uri": "https://localhost:8080/"
        }
      },
      "outputs": [
        {
          "output_type": "stream",
          "name": "stdout",
          "text": [
            "Requirement already satisfied: pandas in /usr/local/lib/python3.10/dist-packages (2.0.3)\n",
            "Requirement already satisfied: requests in /usr/local/lib/python3.10/dist-packages (2.31.0)\n",
            "Requirement already satisfied: python-dateutil>=2.8.2 in /usr/local/lib/python3.10/dist-packages (from pandas) (2.8.2)\n",
            "Requirement already satisfied: pytz>=2020.1 in /usr/local/lib/python3.10/dist-packages (from pandas) (2023.4)\n",
            "Requirement already satisfied: tzdata>=2022.1 in /usr/local/lib/python3.10/dist-packages (from pandas) (2024.1)\n",
            "Requirement already satisfied: numpy>=1.21.0 in /usr/local/lib/python3.10/dist-packages (from pandas) (1.25.2)\n",
            "Requirement already satisfied: charset-normalizer<4,>=2 in /usr/local/lib/python3.10/dist-packages (from requests) (3.3.2)\n",
            "Requirement already satisfied: idna<4,>=2.5 in /usr/local/lib/python3.10/dist-packages (from requests) (3.7)\n",
            "Requirement already satisfied: urllib3<3,>=1.21.1 in /usr/local/lib/python3.10/dist-packages (from requests) (2.0.7)\n",
            "Requirement already satisfied: certifi>=2017.4.17 in /usr/local/lib/python3.10/dist-packages (from requests) (2024.6.2)\n",
            "Requirement already satisfied: six>=1.5 in /usr/local/lib/python3.10/dist-packages (from python-dateutil>=2.8.2->pandas) (1.16.0)\n"
          ]
        }
      ],
      "source": [
        "!pip install pandas requests\n"
      ]
    },
    {
      "cell_type": "code",
      "source": [
        "import pandas as pd\n",
        "import requests\n",
        "import datetime\n",
        "\n",
        "def fetch_race_results(year, round_number):\n",
        "    url = f\"https://ergast.com/api/f1/{year}/{round_number}/results.json\"\n",
        "    response = requests.get(url)\n",
        "    if response.status_code == 200:\n",
        "        return response.json()\n",
        "    else:\n",
        "        return None\n",
        "\n",
        "def process_race_results(results, year, round_number):\n",
        "    race_data = []\n",
        "    for race in results['MRData']['RaceTable']['Races']:\n",
        "        race_name = race['raceName']\n",
        "        race_date = race['date']\n",
        "        circuit = race['Circuit']['circuitName']\n",
        "        for result in race['Results']:\n",
        "            position = result['position']\n",
        "            driver = result['Driver']\n",
        "            driver_name = f\"{driver['givenName']} {driver['familyName']}\"\n",
        "            constructor = result['Constructor']['name']\n",
        "            grid = result['grid']\n",
        "            laps = result['laps']\n",
        "            status = result['status']\n",
        "            race_data.append({\n",
        "                'Year': year,\n",
        "                'Round': round_number,\n",
        "                'Race': race_name,\n",
        "                'Date': race_date,\n",
        "                'Circuit': circuit,\n",
        "                'Position': position,\n",
        "                'Driver': driver_name,\n",
        "                'Constructor': constructor,\n",
        "                'Grid': grid,\n",
        "                'Laps': laps,\n",
        "                'Status': status\n",
        "            })\n",
        "    return race_data\n",
        "\n",
        "def fetch_f1_data(start_year, end_year):\n",
        "    all_race_results = []\n",
        "    for year in range(start_year, end_year + 1):\n",
        "        print(f\"Fetching data for {year}...\")\n",
        "        round_number = 1\n",
        "        while True:\n",
        "            results = fetch_race_results(year, round_number)\n",
        "            if results and results['MRData']['RaceTable']['Races']:\n",
        "                race_data = process_race_results(results, year, round_number)\n",
        "                all_race_results.extend(race_data)\n",
        "                round_number += 1\n",
        "            else:\n",
        "                break\n",
        "    return all_race_results\n",
        "\n",
        "# Fetch data from 2017 to the present year\n",
        "current_year = datetime.datetime.now().year\n",
        "race_results = fetch_f1_data(2017, current_year)\n",
        "\n",
        "# Convert the race results to a DataFrame\n",
        "df_race_results = pd.DataFrame(race_results)\n",
        "\n",
        "# Display the first few rows of the DataFrame\n",
        "df_race_results.head()\n",
        "\n",
        "# Save the DataFrame to a CSV file\n",
        "df_race_results.to_csv('f1_race_results_2017_present.csv', index=False)\n"
      ],
      "metadata": {
        "id": "ArmMTg4jsoni",
        "outputId": "7498b89a-d25b-4cb3-910f-11ce9bc4caa0",
        "colab": {
          "base_uri": "https://localhost:8080/"
        }
      },
      "execution_count": null,
      "outputs": [
        {
          "output_type": "stream",
          "name": "stdout",
          "text": [
            "Fetching data for 2017...\n",
            "Fetching data for 2018...\n",
            "Fetching data for 2019...\n",
            "Fetching data for 2020...\n"
          ]
        }
      ]
    },
    {
      "cell_type": "code",
      "source": [
        "# Convert the race results to a DataFrame\n",
        "df_race_results = pd.DataFrame(race_results)\n",
        "\n",
        "# Display the first few rows of the DataFrame\n",
        "df_race_results.head()\n",
        "\n",
        "# Save the DataFrame to a CSV file\n",
        "df_race_results.to_csv('f1_race_results_2017_present.csv', index=False)\n"
      ],
      "metadata": {
        "id": "Wz0gGuras6eW"
      },
      "execution_count": null,
      "outputs": []
    }
  ]
}